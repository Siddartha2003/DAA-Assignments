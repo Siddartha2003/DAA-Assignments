{
  "cells": [
    {
      "cell_type": "markdown",
      "metadata": {
        "id": "view-in-github",
        "colab_type": "text"
      },
      "source": [
        "<a href=\"https://colab.research.google.com/github/Siddartha2003/DAA-Assignments/blob/main/WEEK1_2_KJ_DAA.ipynb\" target=\"_parent\"><img src=\"https://colab.research.google.com/assets/colab-badge.svg\" alt=\"Open In Colab\"/></a>"
      ]
    },
    {
      "cell_type": "markdown",
      "metadata": {
        "id": "rebPKvnxodmQ"
      },
      "source": [
        "Imagine you are working for a retail store that sells a wide variety of products. The\n",
        "store has a vast inventory with thousands of items, and it's becoming challenging for\n",
        "the employees to manage and locate products efficiently. Customers often ask for\n",
        "specific items, and employees need to find them quickly. The sorting program's\n",
        "primary goal is to organize the products in the inventory systematically, allowing for\n",
        "faster and easier access to items when needed.\n",
        "Implement an efficient sorting algorithm to arrange the products based on product\n",
        "IDs.\n",
        "Test Case-1\n",
        "Input:\n",
        "Enter Products IDs:\n",
        "87, 67, 21, 59, 99, 46, 84, 32, 43, 12, 90, 23\n",
        "After Sorting Product IDs:\n",
        "12,21,23,32,43,46,59,67,84,87,90,99\n",
        "Test Case-2\n",
        "Input:\n",
        "Enter Products IDs:\n",
        "64,56,21,90,32,87,59,60,43,10,29,74\n",
        "After Sorting Product IDs:\n",
        "10,21,29,32,43,56,59,60,64,74,87,90"
      ]
    },
    {
      "cell_type": "code",
      "execution_count": 1,
      "metadata": {
        "id": "gmPvaIyzodmS"
      },
      "outputs": [],
      "source": [
        "def quick_sort(array):\n",
        "    if len(array)<=1:\n",
        "        return array\n",
        "    else:\n",
        "        pivot = array[-1]\n",
        "        left_partition = [x for x in array[:-1] if x <= pivot]\n",
        "        right_partition = [x for x in array[:-1] if x > pivot]\n",
        "        return quick_sort(left_partition) + [pivot] + quick_sort(right_partition)"
      ]
    },
    {
      "cell_type": "code",
      "execution_count": 2,
      "metadata": {
        "colab": {
          "base_uri": "https://localhost:8080/"
        },
        "id": "oZSF4G-EodmT",
        "outputId": "66337056-0719-42b0-8ef5-8cb1fe9873ea"
      },
      "outputs": [
        {
          "output_type": "stream",
          "name": "stdout",
          "text": [
            "Enter Products IDs:\n",
            "87\n",
            "67\n",
            "21\n",
            "59\n",
            "99\n",
            "46\n",
            "84\n",
            "32\n",
            "43\n",
            "12\n",
            "90\n",
            "23\n",
            "After Sorting Product IDs:\n",
            "12 21 23 32 43 46 59 67 84 87 90 99 "
          ]
        }
      ],
      "source": [
        "array = []\n",
        "print('Enter Products IDs:')\n",
        "for _ in range(12):\n",
        "    val = int(input())\n",
        "    array.append(val)\n",
        "sorted_array = quick_sort(array)\n",
        "print('After Sorting Product IDs:')\n",
        "for i in sorted_array:\n",
        "    print(i,end=' ')"
      ]
    }
  ],
  "metadata": {
    "kernelspec": {
      "display_name": "Python 3",
      "language": "python",
      "name": "python3"
    },
    "language_info": {
      "codemirror_mode": {
        "name": "ipython",
        "version": 3
      },
      "file_extension": ".py",
      "mimetype": "text/x-python",
      "name": "python",
      "nbconvert_exporter": "python",
      "pygments_lexer": "ipython3",
      "version": "3.6.4"
    },
    "colab": {
      "provenance": [],
      "include_colab_link": true
    }
  },
  "nbformat": 4,
  "nbformat_minor": 0
}