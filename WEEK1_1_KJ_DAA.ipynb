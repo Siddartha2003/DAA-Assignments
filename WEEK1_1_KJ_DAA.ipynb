{
  "cells": [
    {
      "cell_type": "markdown",
      "metadata": {
        "id": "view-in-github",
        "colab_type": "text"
      },
      "source": [
        "<a href=\"https://colab.research.google.com/github/Siddartha2003/DAA-Assignments/blob/main/WEEK1_1_KJ_DAA.ipynb\" target=\"_parent\"><img src=\"https://colab.research.google.com/assets/colab-badge.svg\" alt=\"Open In Colab\"/></a>"
      ]
    },
    {
      "cell_type": "markdown",
      "metadata": {
        "id": "MHwWITFIn-78"
      },
      "source": [
        "Imagine you work for a large logistics company that handles a high volume of\n",
        "package deliveries on a daily basis. The company's success hinges on ensuring that\n",
        "packages are delivered to their respective destinations efficiently and on time. To\n",
        "solve this problem, you create a program that can quickly process and classify\n",
        "packages based on their destination.\n",
        "TEST CASE 1:\n",
        "INPUT:\n",
        "Enter time to reach destination:\n",
        "20\n",
        "15\n",
        "30\n",
        "42\n",
        "OUTPUT:\n",
        "15\n",
        "20\n",
        "30\n",
        "42\n",
        "TEST CASE 2:\n",
        "INPUT:\n",
        "Enter time to reach destination:\n",
        "15\n",
        "69\n",
        "80\n",
        "14\n",
        "OUTPUT:\n",
        "80\n",
        "69\n",
        "15\n",
        "14\n"
      ]
    },
    {
      "cell_type": "code",
      "execution_count": 1,
      "metadata": {
        "id": "sONkmW5pn-7-"
      },
      "outputs": [],
      "source": [
        "def merge_sort(array):\n",
        "    if len(array)<=1:\n",
        "        return array\n",
        "    else:\n",
        "        mid = len(array)//2\n",
        "        left_half = merge_sort(array[:mid])\n",
        "        right_half = merge_sort(array[mid:])\n",
        "        return merge(left_half,right_half)"
      ]
    },
    {
      "cell_type": "code",
      "execution_count": 2,
      "metadata": {
        "id": "oJXb0tyLn-7_"
      },
      "outputs": [],
      "source": [
        "def merge(left,right):\n",
        "    result = []\n",
        "    i = j = 0\n",
        "    while i<len(left) and j<len(right):\n",
        "        if left[i]<right[j]:\n",
        "            result.append(left[i])\n",
        "            i+=1\n",
        "        else:\n",
        "            result.append(right[j])\n",
        "            j+=1\n",
        "    result.extend(left[i:])\n",
        "    result.extend(right[j:])\n",
        "    return result"
      ]
    },
    {
      "cell_type": "code",
      "execution_count": 3,
      "metadata": {
        "colab": {
          "base_uri": "https://localhost:8080/"
        },
        "id": "XsDXZxIFn-7_",
        "outputId": "6bc4c136-3d68-4160-ed45-1e4ac154ab48"
      },
      "outputs": [
        {
          "output_type": "stream",
          "name": "stdout",
          "text": [
            "Enter time to reach destination:\n",
            "20\n",
            "15\n",
            "30\n",
            "42\n",
            "Output\n",
            "15\n",
            "20\n",
            "30\n",
            "42\n"
          ]
        }
      ],
      "source": [
        "array = []\n",
        "print('Enter time to reach destination:')\n",
        "for _ in range(4):\n",
        "    val = int(input())\n",
        "    array.append(val)\n",
        "sorted_array = merge_sort(array)\n",
        "print('Output')\n",
        "for i in sorted_array:\n",
        "    print(i)"
      ]
    }
  ],
  "metadata": {
    "kernelspec": {
      "display_name": "Python 3",
      "language": "python",
      "name": "python3"
    },
    "language_info": {
      "codemirror_mode": {
        "name": "ipython",
        "version": 3
      },
      "file_extension": ".py",
      "mimetype": "text/x-python",
      "name": "python",
      "nbconvert_exporter": "python",
      "pygments_lexer": "ipython3",
      "version": "3.6.4"
    },
    "colab": {
      "provenance": [],
      "include_colab_link": true
    }
  },
  "nbformat": 4,
  "nbformat_minor": 0
}