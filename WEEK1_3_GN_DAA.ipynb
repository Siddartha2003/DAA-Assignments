{
  "cells": [
    {
      "cell_type": "markdown",
      "metadata": {
        "id": "view-in-github",
        "colab_type": "text"
      },
      "source": [
        "<a href=\"https://colab.research.google.com/github/Siddartha2003/DAA-Assignments/blob/main/WEEK1_3_GN_DAA.ipynb\" target=\"_parent\"><img src=\"https://colab.research.google.com/assets/colab-badge.svg\" alt=\"Open In Colab\"/></a>"
      ]
    },
    {
      "cell_type": "markdown",
      "metadata": {
        "id": "aGWDpO43hlqv"
      },
      "source": [
        "Imagine you're working for a large online marketplace company that facilitates the\n",
        "buying and selling of various products. As part of the order processing system, the\n",
        "company receives thousands of new orders every minute from customers all around\n",
        "the world. To ensure efficient and timely order fulfillment, the orders need to be\n",
        "sorted based on various criteria before they can be processed and shipped.\n",
        "Some customers may request advanced shipping or have urgent requirements.\n",
        "So, implement an application to arrange the Orders based on priority Number.\n",
        "Test Case-1\n",
        "Input:\n",
        "Enter orders Priority Number:\n",
        "87, 67, 21, 59, 99, 46, 84, 32, 43, 12, 90, 23\n",
        "After Sorting Orders Priority:\n",
        "12,21,23,32,43,46,59,67,84,87,90,99\n",
        "Test Case-2\n",
        "Input:\n",
        "Enter orders Priority Number:\n",
        "44,66,37,90,81,43,55,19,98,33,72,51\n",
        "After Sorting Orders Priority:\n",
        "19,33,37,43,44,51,55,66,72,81,90,98"
      ]
    },
    {
      "cell_type": "code",
      "execution_count": 1,
      "metadata": {
        "id": "Zapvhwarhlqw"
      },
      "outputs": [],
      "source": [
        "def quick_sort(array):\n",
        "    if len(array)<=1:\n",
        "        return array\n",
        "    else:\n",
        "        pivot = array[-1]\n",
        "        left_partition = [x for x in array[:-1] if x <= pivot]\n",
        "        right_partition = [x for x in array[:-1] if x > pivot]\n",
        "        return quick_sort(left_partition) + [pivot] + quick_sort(right_partition)"
      ]
    },
    {
      "cell_type": "code",
      "execution_count": 2,
      "metadata": {
        "colab": {
          "base_uri": "https://localhost:8080/"
        },
        "id": "H-ckHSXyhlqx",
        "outputId": "f01150c9-2dd6-40f5-aa2a-092e3cadb21c"
      },
      "outputs": [
        {
          "output_type": "stream",
          "name": "stdout",
          "text": [
            "Enter orders Priority Number:\n",
            "87\n",
            "67\n",
            "21\n",
            "59\n",
            "99\n",
            "46\n",
            "84\n",
            "32\n",
            "43\n",
            "12\n",
            "90\n",
            "23\n",
            "After Sorting Orders Priority:\n",
            "12 21 23 32 43 46 59 67 84 87 90 99 "
          ]
        }
      ],
      "source": [
        "array = []\n",
        "print('Enter orders Priority Number:')\n",
        "for _ in range(12):\n",
        "    val = int(input())\n",
        "    array.append(val)\n",
        "sorted_array = quick_sort(array)\n",
        "print('After Sorting Orders Priority:')\n",
        "for i in sorted_array:\n",
        "    print(i,end=' ')"
      ]
    }
  ],
  "metadata": {
    "kernelspec": {
      "display_name": "Python 3",
      "language": "python",
      "name": "python3"
    },
    "language_info": {
      "codemirror_mode": {
        "name": "ipython",
        "version": 3
      },
      "file_extension": ".py",
      "mimetype": "text/x-python",
      "name": "python",
      "nbconvert_exporter": "python",
      "pygments_lexer": "ipython3",
      "version": "3.6.4"
    },
    "colab": {
      "provenance": [],
      "include_colab_link": true
    }
  },
  "nbformat": 4,
  "nbformat_minor": 0
}