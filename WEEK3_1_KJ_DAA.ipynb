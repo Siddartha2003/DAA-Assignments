{
  "cells": [
    {
      "cell_type": "markdown",
      "metadata": {
        "id": "view-in-github",
        "colab_type": "text"
      },
      "source": [
        "<a href=\"https://colab.research.google.com/github/Siddartha2003/DAA-Assignments/blob/main/WEEK3_1_KJ_DAA.ipynb\" target=\"_parent\"><img src=\"https://colab.research.google.com/assets/colab-badge.svg\" alt=\"Open In Colab\"/></a>"
      ]
    },
    {
      "cell_type": "markdown",
      "metadata": {
        "id": "Jy4F2A5TqXmd"
      },
      "source": [
        "\n",
        "Given a sorted array of product prices in ascending order, implement a function called<br>\n",
        "binarySearchPrice in C that searches for a specific price in the sorted price array and returns its<br>\n",
        "index. If the price is not found, the function should return -1.<br>\n",
        "TEST CASE 1:<br>\n",
        "INPUT:<br>\n",
        "Product Prices in USD: $15, $30, $45, $60, $75, $90, $105, $120<br>\n",
        "OUTPUT:<br>\n",
        "Find the price of a product priced at: $75<br>\n",
        "TEST CASE 2:<br>\n",
        "INPUT:<br>\n",
        "Product Prices in USD: $10, $20, $35, $50, $65, $80, $95, $110<br>\n",
        "OUTPUT:<br>\n",
        "nd the price of a book priced at: $35\n"
      ]
    },
    {
      "cell_type": "code",
      "execution_count": 1,
      "metadata": {
        "colab": {
          "base_uri": "https://localhost:8080/"
        },
        "id": "dkGCBAnLqXmf",
        "outputId": "d9a3b542-c3be-490b-d9bc-904361e0dc67"
      },
      "outputs": [
        {
          "output_type": "stream",
          "name": "stdout",
          "text": [
            "Enter Product Prices in USD:\n",
            "15\n",
            "30\n",
            "45\n",
            "60\n",
            "75\n",
            "90\n",
            "105\n",
            "120\n",
            "Enter the price of the book to be found: 75\n",
            "4\n"
          ]
        }
      ],
      "source": [
        "def binary(array):\n",
        "    l = 0\n",
        "    r = len(array)-1\n",
        "    while l<=r:\n",
        "        mid = (l+r)//2\n",
        "        if array[mid] == key:\n",
        "            return mid\n",
        "        elif array[mid] > key:\n",
        "            r = mid\n",
        "        else:\n",
        "            l = mid+1\n",
        "    return -1\n",
        "array = []\n",
        "print('Enter Product Prices in USD:')\n",
        "for _ in range(8):\n",
        "    val = int(input())\n",
        "    array.append(val)\n",
        "key = int(input('Enter the price of the book to be found: '))\n",
        "print(binary(array))"
      ]
    }
  ],
  "metadata": {
    "kernelspec": {
      "display_name": "Python 3",
      "language": "python",
      "name": "python3"
    },
    "language_info": {
      "codemirror_mode": {
        "name": "ipython",
        "version": 3
      },
      "file_extension": ".py",
      "mimetype": "text/x-python",
      "name": "python",
      "nbconvert_exporter": "python",
      "pygments_lexer": "ipython3",
      "version": "3.6.4"
    },
    "colab": {
      "provenance": [],
      "include_colab_link": true
    }
  },
  "nbformat": 4,
  "nbformat_minor": 0
}