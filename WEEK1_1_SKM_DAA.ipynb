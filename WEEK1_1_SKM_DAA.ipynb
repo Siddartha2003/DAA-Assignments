{
  "cells": [
    {
      "cell_type": "markdown",
      "metadata": {
        "id": "view-in-github",
        "colab_type": "text"
      },
      "source": [
        "<a href=\"https://colab.research.google.com/github/Siddartha2003/DAA-Assignments/blob/main/WEEK1_1_SKM_DAA.ipynb\" target=\"_parent\"><img src=\"https://colab.research.google.com/assets/colab-badge.svg\" alt=\"Open In Colab\"/></a>"
      ]
    },
    {
      "cell_type": "markdown",
      "metadata": {
        "id": "qmBMlA0BiWgC"
      },
      "source": [
        "In an online bookstore, there are thousands of books available for purchase. The\n",
        "bookstore's website allows customers to search for books based on various criteria,\n",
        "such as title, author, publication date, and price. if a customer searches for books by\n",
        "a specific title and price, the program can arrange the search results by price, from\n",
        "low to high or vice versa, based on the customer's preference.\n",
        "TEST CASE 1:\n",
        "INPUT:\n",
        "Enter Book Price:\n",
        "200\n",
        "150\n",
        "300\n",
        "420\n",
        "OUT PUT:\n",
        "420\n",
        "300\n",
        "200\n",
        "150\n",
        "TEST CASE 2:\n",
        "Enter Book Price:\n",
        "INPUT:\n",
        "150\n",
        "690\n",
        "800\n",
        "140\n",
        "OUTPUT:\n",
        "140\n",
        "150\n",
        "690\n",
        "800"
      ]
    },
    {
      "cell_type": "code",
      "execution_count": 1,
      "metadata": {
        "id": "KYNNPyvMiWgE"
      },
      "outputs": [],
      "source": [
        "def quick_sort(array):\n",
        "    if len(array)<=1:\n",
        "        return array\n",
        "    else:\n",
        "        pivot = array[-1]\n",
        "        left_partition = [x for x in array[:-1] if x <= pivot]\n",
        "        right_partition = [x for x in array[:-1] if x > pivot]\n",
        "        return quick_sort(left_partition) + [pivot] + quick_sort(right_partition)"
      ]
    },
    {
      "cell_type": "code",
      "execution_count": 3,
      "metadata": {
        "colab": {
          "base_uri": "https://localhost:8080/"
        },
        "id": "nIP3HRTriWgF",
        "outputId": "ac938b8c-3e01-410d-c6e5-b27255016190"
      },
      "outputs": [
        {
          "output_type": "stream",
          "name": "stdout",
          "text": [
            "Enter Book Price:\n",
            "200\n",
            "150\n",
            "300\n",
            "420\n",
            "After Sorting\n",
            "150\n",
            "200\n",
            "300\n",
            "420\n"
          ]
        }
      ],
      "source": [
        "array = []\n",
        "print('Enter Book Price:')\n",
        "for _ in range(4):\n",
        "    val = int(input())\n",
        "    array.append(val)\n",
        "sorted_array = quick_sort(array)\n",
        "print('After Sorting')\n",
        "for i in sorted_array:\n",
        "    print(i)"
      ]
    }
  ],
  "metadata": {
    "kernelspec": {
      "display_name": "Python 3",
      "language": "python",
      "name": "python3"
    },
    "language_info": {
      "codemirror_mode": {
        "name": "ipython",
        "version": 3
      },
      "file_extension": ".py",
      "mimetype": "text/x-python",
      "name": "python",
      "nbconvert_exporter": "python",
      "pygments_lexer": "ipython3",
      "version": "3.6.4"
    },
    "colab": {
      "provenance": [],
      "include_colab_link": true
    }
  },
  "nbformat": 4,
  "nbformat_minor": 0
}